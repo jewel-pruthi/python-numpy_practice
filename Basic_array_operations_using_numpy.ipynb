{
  "nbformat": 4,
  "nbformat_minor": 0,
  "metadata": {
    "colab": {
      "name": "Basic array operations using numpy",
      "provenance": [],
      "collapsed_sections": [],
      "authorship_tag": "ABX9TyPVycp3PSE9MTIxeg+eTXLw",
      "include_colab_link": true
    },
    "kernelspec": {
      "name": "python3",
      "display_name": "Python 3"
    },
    "language_info": {
      "name": "python"
    }
  },
  "cells": [
    {
      "cell_type": "markdown",
      "metadata": {
        "id": "view-in-github",
        "colab_type": "text"
      },
      "source": [
        "<a href=\"https://colab.research.google.com/github/jewel-pruthi/python-numpy_practice/blob/main/Basic_array_operations_using_numpy.ipynb\" target=\"_parent\"><img src=\"https://colab.research.google.com/assets/colab-badge.svg\" alt=\"Open In Colab\"/></a>"
      ]
    },
    {
      "cell_type": "markdown",
      "metadata": {
        "id": "YWgo6dHoWXLi"
      },
      "source": [
        "**The objective of this colab notebook is to demonstrate basics of numpy arrays, incl. but not limited to the following operations:**\n",
        "\n",
        "\n",
        "\n",
        "*   Array creation\n",
        "*   Properties like dimensions, shape of array etc.\n",
        "*   Array of Zeros and Ones, sequenced values\n",
        "*   Unary and binary matrix operations\n",
        "*   Indexing and slicing\n",
        "*   Array manipulation like flattening, modifying dimensions, stacking, creating a copy etc.\n"
      ]
    },
    {
      "cell_type": "code",
      "metadata": {
        "id": "jJc4vSIryg5-"
      },
      "source": [
        "# Importing the numpy library\n",
        "import numpy as np"
      ],
      "execution_count": 1,
      "outputs": []
    },
    {
      "cell_type": "code",
      "metadata": {
        "colab": {
          "base_uri": "https://localhost:8080/"
        },
        "id": "9Md-WFKc3nvT",
        "outputId": "15bfe79b-2889-41aa-a508-3d8e553ffdad"
      },
      "source": [
        "# Create an array. Enclose every new dimension in a []\n",
        "\n",
        "arr_1d = np.array([1,2,3])\n",
        "print('1d array example : \\n',arr_1d)\n",
        "\n",
        "arr_2d = np.array([[1.,2.,3.],\n",
        "                   [4.,5.,6.]])\n",
        "print('\\n2d array example : \\n', arr_2d)\n",
        "\n",
        "arr_3d = np.array([[[1,2,3,4],\n",
        "                    [5,6,7,8],\n",
        "                    [9,10,11,12]\n",
        "                    ],\n",
        "                   [[13,14,15,16],\n",
        "                    [17,18,19,20],\n",
        "                    [21,22,23,24]\n",
        "                    ]])\n",
        "print('\\n3d array example : \\n', arr_3d)"
      ],
      "execution_count": 2,
      "outputs": [
        {
          "output_type": "stream",
          "text": [
            "1d array example : \n",
            " [1 2 3]\n",
            "\n",
            "2d array example : \n",
            " [[1. 2. 3.]\n",
            " [4. 5. 6.]]\n",
            "\n",
            "3d array example : \n",
            " [[[ 1  2  3  4]\n",
            "  [ 5  6  7  8]\n",
            "  [ 9 10 11 12]]\n",
            "\n",
            " [[13 14 15 16]\n",
            "  [17 18 19 20]\n",
            "  [21 22 23 24]]]\n"
          ],
          "name": "stdout"
        }
      ]
    },
    {
      "cell_type": "code",
      "metadata": {
        "colab": {
          "base_uri": "https://localhost:8080/"
        },
        "id": "zAVFYOtW47tE",
        "outputId": "71e88444-350f-4918-b056-5921ed603aaa"
      },
      "source": [
        "# Find the dimension (or axes) of array. Simply put, this is the length of the shape tuple.\n",
        "\n",
        "print('Dimensions in 1d array: ',arr_1d.ndim)\n",
        "print('\\nDimensions in 2d array: ',arr_2d.ndim)\n",
        "print('\\nDimensions in 3d array: ', arr_3d.ndim)\n"
      ],
      "execution_count": 3,
      "outputs": [
        {
          "output_type": "stream",
          "text": [
            "Dimensions in 1d array:  1\n",
            "\n",
            "Dimensions in 2d array:  2\n",
            "\n",
            "Dimensions in 3d array:  3\n"
          ],
          "name": "stdout"
        }
      ]
    },
    {
      "cell_type": "code",
      "metadata": {
        "colab": {
          "base_uri": "https://localhost:8080/"
        },
        "id": "hxUS87-c59lP",
        "outputId": "116bd73c-6292-4408-f28d-90f142d07eb4"
      },
      "source": [
        "# Find shape of array i.e. number of dimensions\n",
        "\n",
        "print('Shape of 1d array:', arr_1d.shape)\n",
        "print('\\nShape of 2d array:', arr_2d.shape)\n",
        "print('\\nShape of 3d array:',arr_3d.shape)\n"
      ],
      "execution_count": 4,
      "outputs": [
        {
          "output_type": "stream",
          "text": [
            "Shape of 1d array: (3,)\n",
            "\n",
            "Shape of 2d array: (2, 3)\n",
            "\n",
            "Shape of 3d array: (2, 3, 4)\n"
          ],
          "name": "stdout"
        }
      ]
    },
    {
      "cell_type": "code",
      "metadata": {
        "colab": {
          "base_uri": "https://localhost:8080/"
        },
        "id": "ylAFhXAT6hwI",
        "outputId": "b87b2474-9c12-4e67-c7e8-57a9735d2a88"
      },
      "source": [
        "# Find out data type of array\n",
        "\n",
        "print('Datatype of 1d array : ', arr_1d.dtype)\n",
        "print('Datatype of 2d array : ', arr_2d.dtype)"
      ],
      "execution_count": 5,
      "outputs": [
        {
          "output_type": "stream",
          "text": [
            "Datatype of 1d array :  int64\n",
            "Datatype of 2d array :  float64\n"
          ],
          "name": "stdout"
        }
      ]
    },
    {
      "cell_type": "code",
      "metadata": {
        "colab": {
          "base_uri": "https://localhost:8080/"
        },
        "id": "KThrf9Tv64f8",
        "outputId": "7652bd0d-7729-44d5-ab54-08c8a1066052"
      },
      "source": [
        "# Create an array of zeros and ones\n",
        "\n",
        "arr_1d_zeros = np.zeros((3,))\n",
        "arr_2d_zeros = np.zeros((3,3))\n",
        "arr_3d_zeros = np.zeros((2,3,4))\n",
        "\n",
        "print('1d zeros array : \\n', arr_1d_zeros)\n",
        "print('\\n2d zeros array : \\n', arr_2d_zeros)\n",
        "print('\\n3d zeros array : \\n', arr_3d_zeros)\n",
        "\n",
        "#Similarly use np.ones((placeholder for tuple of array size)) to create an array of ones\n",
        "\n",
        "arr_2d_ones = np.ones((3,4))\n",
        "print('\\n2d ones array : \\n',arr_2d_ones)"
      ],
      "execution_count": 6,
      "outputs": [
        {
          "output_type": "stream",
          "text": [
            "1d zeros array : \n",
            " [0. 0. 0.]\n",
            "\n",
            "2d zeros array : \n",
            " [[0. 0. 0.]\n",
            " [0. 0. 0.]\n",
            " [0. 0. 0.]]\n",
            "\n",
            "3d zeros array : \n",
            " [[[0. 0. 0. 0.]\n",
            "  [0. 0. 0. 0.]\n",
            "  [0. 0. 0. 0.]]\n",
            "\n",
            " [[0. 0. 0. 0.]\n",
            "  [0. 0. 0. 0.]\n",
            "  [0. 0. 0. 0.]]]\n",
            "\n",
            "2d ones array : \n",
            " [[1. 1. 1. 1.]\n",
            " [1. 1. 1. 1.]\n",
            " [1. 1. 1. 1.]]\n"
          ],
          "name": "stdout"
        }
      ]
    },
    {
      "cell_type": "code",
      "metadata": {
        "colab": {
          "base_uri": "https://localhost:8080/"
        },
        "id": "27mNgsrg8_X5",
        "outputId": "e327be31-a98a-4dcb-dba3-0fce80fca09e"
      },
      "source": [
        "# To create arrays with sequence of numbers, one can use either arange or linspace functions\n",
        "# np.arange(start, stop, stepsize) --> becomes tricky to use with floating point stepsize as\n",
        "#  there is no guarantee of the number of elements returned due to floating precision\n",
        "# np.linspace(start, stop, number of elements ) \n",
        "\n",
        "arr_seq = np.arange(0,12,1).reshape(3,4)\n",
        "print('2d array sequence from 0-11 : \\n', arr_seq)\n",
        "\n",
        "float_arr_seq = np.arange(0,2,0.3) #using reshape here will throw an error\n",
        "print('\\nFloating point sequenced array : \\n', float_arr_seq)\n",
        "\n",
        "float_arr = np.linspace(0,2,8).reshape(2,4)\n",
        "print('\\n Floating point fixed dimension array : \\n', float_arr)"
      ],
      "execution_count": 7,
      "outputs": [
        {
          "output_type": "stream",
          "text": [
            "2d array sequence from 0-11 : \n",
            " [[ 0  1  2  3]\n",
            " [ 4  5  6  7]\n",
            " [ 8  9 10 11]]\n",
            "\n",
            "Floating point sequenced array : \n",
            " [0.  0.3 0.6 0.9 1.2 1.5 1.8]\n",
            "\n",
            " Floating point fixed dimension array : \n",
            " [[0.         0.28571429 0.57142857 0.85714286]\n",
            " [1.14285714 1.42857143 1.71428571 2.        ]]\n"
          ],
          "name": "stdout"
        }
      ]
    },
    {
      "cell_type": "code",
      "metadata": {
        "colab": {
          "base_uri": "https://localhost:8080/"
        },
        "id": "IQJ-FEdu_06u",
        "outputId": "bcfa43b6-9887-44e3-d1b7-dcee5db07740"
      },
      "source": [
        "# Element-wise array operations\n",
        "\n",
        "A = np.linspace(1,4,4).reshape(2,2)\n",
        "B = np.linspace(5,8,4).reshape(2,2)\n",
        "print('A :\\n',A)\n",
        "print('\\nB:\\n',B)\n",
        "\n",
        "print('\\n A+B : \\n', A+B)\n",
        "print('\\n A+B using add fn : \\n', np.add(A,B))\n",
        "print('\\n A-B : \\n', A-B)\n",
        "print('\\n A-B using subtract fn : \\n', np.subtract(A,B))\n",
        "print('\\n A*B : \\n', A*B)\n",
        "print('\\n Dot product (matrix multiplication): \\n', A.dot(B))\n",
        "print('\\n Dot product (matrix multiplication): \\n', A@B)\n",
        "\n"
      ],
      "execution_count": 8,
      "outputs": [
        {
          "output_type": "stream",
          "text": [
            "A :\n",
            " [[1. 2.]\n",
            " [3. 4.]]\n",
            "\n",
            "B:\n",
            " [[5. 6.]\n",
            " [7. 8.]]\n",
            "\n",
            " A+B : \n",
            " [[ 6.  8.]\n",
            " [10. 12.]]\n",
            "\n",
            " A+B using add fn : \n",
            " [[ 6.  8.]\n",
            " [10. 12.]]\n",
            "\n",
            " A-B : \n",
            " [[-4. -4.]\n",
            " [-4. -4.]]\n",
            "\n",
            " A-B using subtract fn : \n",
            " [[-4. -4.]\n",
            " [-4. -4.]]\n",
            "\n",
            " A*B : \n",
            " [[ 5. 12.]\n",
            " [21. 32.]]\n",
            "\n",
            " Dot product (matrix multiplication): \n",
            " [[19. 22.]\n",
            " [43. 50.]]\n",
            "\n",
            " Dot product (matrix multiplication): \n",
            " [[19. 22.]\n",
            " [43. 50.]]\n"
          ],
          "name": "stdout"
        }
      ]
    },
    {
      "cell_type": "code",
      "metadata": {
        "colab": {
          "base_uri": "https://localhost:8080/"
        },
        "id": "FUCuw4ZkbVQ9",
        "outputId": "dc24f226-d972-4138-86ee-969793f16336"
      },
      "source": [
        "# Unary matrix operations\n",
        "\n",
        "print('A : \\n',A)\n",
        "print('\\nUnary sum of A : ',  A.sum())\n",
        "print('Minimum element in A : ', A.min())\n",
        "print('Maximum element in A : ', A.max())\n",
        "print('Mean of elements in A : ', A.mean())\n",
        "\n",
        "print('\\nSum of A along rows : ', A.sum(axis = 0))\n",
        "print('\\nSum of A along columns : ', A.sum(axis = 1))\n",
        "print('\\nCumulative sum of A (flattened): \\n', np.cumsum(A))\n",
        "print('\\nCumulative sum of A (along columns): \\n', np.cumsum(A, axis = 1))\n"
      ],
      "execution_count": 9,
      "outputs": [
        {
          "output_type": "stream",
          "text": [
            "A : \n",
            " [[1. 2.]\n",
            " [3. 4.]]\n",
            "\n",
            "Unary sum of A :  10.0\n",
            "Minimum element in A :  1.0\n",
            "Maximum element in A :  4.0\n",
            "Mean of elements in A :  2.5\n",
            "\n",
            "Sum of A along rows :  [4. 6.]\n",
            "\n",
            "Sum of A along columns :  [3. 7.]\n",
            "\n",
            "Cumulative sum of A (flattened): \n",
            " [ 1.  3.  6. 10.]\n",
            "\n",
            "Cumulative sum of A (along columns): \n",
            " [[1. 3.]\n",
            " [3. 7.]]\n"
          ],
          "name": "stdout"
        }
      ]
    },
    {
      "cell_type": "code",
      "metadata": {
        "colab": {
          "base_uri": "https://localhost:8080/"
        },
        "id": "yzbl-3Wscicf",
        "outputId": "dbb54b49-c370-4b55-c7f6-c5f6eecd95ea"
      },
      "source": [
        "# Universal functions --> np.sin(), np.cos(), np.exp()\n",
        "\n",
        "print('A : \\n', A)\n",
        "print('\\nsin(A) : \\n',np.sin(A))\n",
        "print('\\ncos(A) : \\n',np.cos(A))\n",
        "print('\\nexp(A) : \\n', np.exp(A))\n",
        "print('\\nSqrt of A : \\n', np.sqrt(A))"
      ],
      "execution_count": 10,
      "outputs": [
        {
          "output_type": "stream",
          "text": [
            "A : \n",
            " [[1. 2.]\n",
            " [3. 4.]]\n",
            "\n",
            "sin(A) : \n",
            " [[ 0.84147098  0.90929743]\n",
            " [ 0.14112001 -0.7568025 ]]\n",
            "\n",
            "cos(A) : \n",
            " [[ 0.54030231 -0.41614684]\n",
            " [-0.9899925  -0.65364362]]\n",
            "\n",
            "exp(A) : \n",
            " [[ 2.71828183  7.3890561 ]\n",
            " [20.08553692 54.59815003]]\n",
            "\n",
            "Sqrt of A : \n",
            " [[1.         1.41421356]\n",
            " [1.73205081 2.        ]]\n"
          ],
          "name": "stdout"
        }
      ]
    },
    {
      "cell_type": "code",
      "metadata": {
        "colab": {
          "base_uri": "https://localhost:8080/"
        },
        "id": "YxHwE2TDdK0h",
        "outputId": "a757dc4d-c577-423a-bc3d-795ec9aca362"
      },
      "source": [
        "# Short-hand notations for matrix operations\n",
        "\n",
        "print('A : \\n', A)\n",
        "print('B : \\n', B)\n",
        "\n",
        "A+=B\n",
        "print('\\nUpdated A with A+B : \\n', A)\n",
        "\n",
        "A-=B\n",
        "print('\\nUpdated A with A-B : \\n', A)\n",
        "\n",
        "A*=B\n",
        "print('\\nUpdated A with A*B : \\n', A)\n",
        "\n",
        "A/=B\n",
        "print('\\nUpdated A with A/B : \\n', A)"
      ],
      "execution_count": 11,
      "outputs": [
        {
          "output_type": "stream",
          "text": [
            "A : \n",
            " [[1. 2.]\n",
            " [3. 4.]]\n",
            "B : \n",
            " [[5. 6.]\n",
            " [7. 8.]]\n",
            "\n",
            "Updated A with A+B : \n",
            " [[ 6.  8.]\n",
            " [10. 12.]]\n",
            "\n",
            "Updated A with A-B : \n",
            " [[1. 2.]\n",
            " [3. 4.]]\n",
            "\n",
            "Updated A with A*B : \n",
            " [[ 5. 12.]\n",
            " [21. 32.]]\n",
            "\n",
            "Updated A with A/B : \n",
            " [[1. 2.]\n",
            " [3. 4.]]\n"
          ],
          "name": "stdout"
        }
      ]
    },
    {
      "cell_type": "code",
      "metadata": {
        "colab": {
          "base_uri": "https://localhost:8080/"
        },
        "id": "PfkAZT2Aogxz",
        "outputId": "fa2d9fde-b9d7-4059-fd59-b8f9f1d46fe2"
      },
      "source": [
        "# Indexing and slicing operations (each axes has a unique index)\n",
        "# 1d array --> arr_1d[start : stop : stepsize]\n",
        "# 2d array --> arr[tuple of inddex ranges for both axes], eg. arr_2d[start:stop:step, start:stop:step]\n",
        "# n-dimensional arrays --> specify the index range for the desired axes and rest can be skipped\n",
        "#  through ... (3 dots) , eg.,\n",
        "#  for an array with 5 dimensions arr_5d[0:3,...] equivalesnt to arr_5d[0:3,:,:,:,:]\n",
        "\n",
        "print('1d array : ',arr_1d)\n",
        "print('First two elements : ', arr_1d[0:2:])\n",
        "\n",
        "array_2d = np.arange(24).reshape(4,6)\n",
        "print('\\n 2d array : \\n', array_2d)\n",
        "print('\\n Displaying 3rd column even indices', array_2d[0::2,2])\n",
        "\n",
        "array_5d = np.linspace(0,1000,72, dtype = np.int32).reshape(2,3,1,4,3)\n",
        "print('\\n 5d array : \\n', array_5d)\n",
        "print('\\nDisplaying first 3 rows of 4th dimension in the 5d array : \\n\\n', array_5d[...,0:3,:])\n",
        "\n"
      ],
      "execution_count": 40,
      "outputs": [
        {
          "output_type": "stream",
          "text": [
            "1d array :  [1 2 3]\n",
            "First two elements :  [1 2]\n",
            "\n",
            " 2d array : \n",
            " [[ 0  1  2  3  4  5]\n",
            " [ 6  7  8  9 10 11]\n",
            " [12 13 14 15 16 17]\n",
            " [18 19 20 21 22 23]]\n",
            "\n",
            " Displaying 3rd column even indices [ 2 14]\n",
            "\n",
            " 5d array : \n",
            " [[[[[   0   14   28]\n",
            "    [  42   56   70]\n",
            "    [  84   98  112]\n",
            "    [ 126  140  154]]]\n",
            "\n",
            "\n",
            "  [[[ 169  183  197]\n",
            "    [ 211  225  239]\n",
            "    [ 253  267  281]\n",
            "    [ 295  309  323]]]\n",
            "\n",
            "\n",
            "  [[[ 338  352  366]\n",
            "    [ 380  394  408]\n",
            "    [ 422  436  450]\n",
            "    [ 464  478  492]]]]\n",
            "\n",
            "\n",
            "\n",
            " [[[[ 507  521  535]\n",
            "    [ 549  563  577]\n",
            "    [ 591  605  619]\n",
            "    [ 633  647  661]]]\n",
            "\n",
            "\n",
            "  [[[ 676  690  704]\n",
            "    [ 718  732  746]\n",
            "    [ 760  774  788]\n",
            "    [ 802  816  830]]]\n",
            "\n",
            "\n",
            "  [[[ 845  859  873]\n",
            "    [ 887  901  915]\n",
            "    [ 929  943  957]\n",
            "    [ 971  985 1000]]]]]\n",
            "\n",
            "Displaying first 3 rows of 4th dimension in the 5d array : \n",
            "\n",
            " [[[[[  0  14  28]\n",
            "    [ 42  56  70]\n",
            "    [ 84  98 112]]]\n",
            "\n",
            "\n",
            "  [[[169 183 197]\n",
            "    [211 225 239]\n",
            "    [253 267 281]]]\n",
            "\n",
            "\n",
            "  [[[338 352 366]\n",
            "    [380 394 408]\n",
            "    [422 436 450]]]]\n",
            "\n",
            "\n",
            "\n",
            " [[[[507 521 535]\n",
            "    [549 563 577]\n",
            "    [591 605 619]]]\n",
            "\n",
            "\n",
            "  [[[676 690 704]\n",
            "    [718 732 746]\n",
            "    [760 774 788]]]\n",
            "\n",
            "\n",
            "  [[[845 859 873]\n",
            "    [887 901 915]\n",
            "    [929 943 957]]]]]\n"
          ],
          "name": "stdout"
        }
      ]
    },
    {
      "cell_type": "code",
      "metadata": {
        "colab": {
          "base_uri": "https://localhost:8080/"
        },
        "id": "DlxxTbojvxYl",
        "outputId": "c15f0630-aa7c-41df-baec-bf4d727cd379"
      },
      "source": [
        "# Array dimension manipulations\n",
        "\n",
        "# Flattening an n-dimensional array to 1d list\n",
        "print('2d array : \\n ', array_2d)\n",
        "print('\\nFlattened array : ', array_2d.ravel())\n",
        "\n",
        "# Reshaping the array through reshape()\n",
        "# reshape() returns its array argument with the new size but doesn't modify the original array\n",
        "# Syntax : array_reference.reshape(new_size_tuple)\n",
        "print('\\n5d array :\\n', array_5d)\n",
        "print('\\nExample of 5d array reshaped to 2d : \\n', array_5d.reshape((8,9)))\n",
        "\n",
        "# Reshaping the array through resize()\n",
        "# resize() modifies the array in-place into the new dimensions\n",
        "# Syntax : array_reference.resize(new_tuple_size)\n",
        "\n",
        "print('\\n5d array after applying reshape fn :\\n', array_5d) #Same as original dimensions of array_5d\n",
        "array_5d.resize(8,9)\n",
        "print('\\nExample of updated 5d array to 2d : \\n', array_5d)\n"
      ],
      "execution_count": 41,
      "outputs": [
        {
          "output_type": "stream",
          "text": [
            "2d array : \n",
            "  [[ 0  1  2  3  4  5]\n",
            " [ 6  7  8  9 10 11]\n",
            " [12 13 14 15 16 17]\n",
            " [18 19 20 21 22 23]]\n",
            "\n",
            "Flattened array :  [ 0  1  2  3  4  5  6  7  8  9 10 11 12 13 14 15 16 17 18 19 20 21 22 23]\n",
            "\n",
            "5d array :\n",
            " [[[[[   0   14   28]\n",
            "    [  42   56   70]\n",
            "    [  84   98  112]\n",
            "    [ 126  140  154]]]\n",
            "\n",
            "\n",
            "  [[[ 169  183  197]\n",
            "    [ 211  225  239]\n",
            "    [ 253  267  281]\n",
            "    [ 295  309  323]]]\n",
            "\n",
            "\n",
            "  [[[ 338  352  366]\n",
            "    [ 380  394  408]\n",
            "    [ 422  436  450]\n",
            "    [ 464  478  492]]]]\n",
            "\n",
            "\n",
            "\n",
            " [[[[ 507  521  535]\n",
            "    [ 549  563  577]\n",
            "    [ 591  605  619]\n",
            "    [ 633  647  661]]]\n",
            "\n",
            "\n",
            "  [[[ 676  690  704]\n",
            "    [ 718  732  746]\n",
            "    [ 760  774  788]\n",
            "    [ 802  816  830]]]\n",
            "\n",
            "\n",
            "  [[[ 845  859  873]\n",
            "    [ 887  901  915]\n",
            "    [ 929  943  957]\n",
            "    [ 971  985 1000]]]]]\n",
            "\n",
            "Example of 5d array reshaped to 2d : \n",
            " [[   0   14   28   42   56   70   84   98  112]\n",
            " [ 126  140  154  169  183  197  211  225  239]\n",
            " [ 253  267  281  295  309  323  338  352  366]\n",
            " [ 380  394  408  422  436  450  464  478  492]\n",
            " [ 507  521  535  549  563  577  591  605  619]\n",
            " [ 633  647  661  676  690  704  718  732  746]\n",
            " [ 760  774  788  802  816  830  845  859  873]\n",
            " [ 887  901  915  929  943  957  971  985 1000]]\n",
            "\n",
            "5d array after applying reshape fn :\n",
            " [[[[[   0   14   28]\n",
            "    [  42   56   70]\n",
            "    [  84   98  112]\n",
            "    [ 126  140  154]]]\n",
            "\n",
            "\n",
            "  [[[ 169  183  197]\n",
            "    [ 211  225  239]\n",
            "    [ 253  267  281]\n",
            "    [ 295  309  323]]]\n",
            "\n",
            "\n",
            "  [[[ 338  352  366]\n",
            "    [ 380  394  408]\n",
            "    [ 422  436  450]\n",
            "    [ 464  478  492]]]]\n",
            "\n",
            "\n",
            "\n",
            " [[[[ 507  521  535]\n",
            "    [ 549  563  577]\n",
            "    [ 591  605  619]\n",
            "    [ 633  647  661]]]\n",
            "\n",
            "\n",
            "  [[[ 676  690  704]\n",
            "    [ 718  732  746]\n",
            "    [ 760  774  788]\n",
            "    [ 802  816  830]]]\n",
            "\n",
            "\n",
            "  [[[ 845  859  873]\n",
            "    [ 887  901  915]\n",
            "    [ 929  943  957]\n",
            "    [ 971  985 1000]]]]]\n",
            "\n",
            "Example of updated 5d array to 2d : \n",
            " [[   0   14   28   42   56   70   84   98  112]\n",
            " [ 126  140  154  169  183  197  211  225  239]\n",
            " [ 253  267  281  295  309  323  338  352  366]\n",
            " [ 380  394  408  422  436  450  464  478  492]\n",
            " [ 507  521  535  549  563  577  591  605  619]\n",
            " [ 633  647  661  676  690  704  718  732  746]\n",
            " [ 760  774  788  802  816  830  845  859  873]\n",
            " [ 887  901  915  929  943  957  971  985 1000]]\n"
          ],
          "name": "stdout"
        }
      ]
    },
    {
      "cell_type": "code",
      "metadata": {
        "colab": {
          "base_uri": "https://localhost:8080/"
        },
        "id": "91x67QhABOWu",
        "outputId": "61860fde-5055-416e-a6c7-7b36adcea02c"
      },
      "source": [
        "# Stacking multiple arrays together\n",
        "# Vertical stack - Stacks one array over the another along the first dimension. The argumnents to \n",
        "# the function must have the same dimensions.\n",
        "# Syntax : npvstack(tuple(array1, array2, ...))\n",
        "\n",
        "# Horizontal stacking - Appends one array over the another along the second dimension. The arguments to the\n",
        "# function must have the same dimensions.\n",
        "# Syntax : np.hstack(tuple(array1, array2, ...))\n",
        "\n",
        "a = np.linspace(0,24,24, dtype = np.int32).reshape(2,3,4)\n",
        "b = np.linspace(25,100,24, dtype = np.int32).reshape(2,3,4)\n",
        "\n",
        "print('Array A : \\n', a)\n",
        "print('\\nArray B : \\n', b)\n",
        "print('\\nArray B stacked along rows on array A : \\n', np.vstack((a,b)))\n",
        "\n",
        "print('\\n Array B stacked along columns on array A : \\n', np.hstack((a,b)))"
      ],
      "execution_count": 50,
      "outputs": [
        {
          "output_type": "stream",
          "text": [
            "Array A : \n",
            " [[[ 0  1  2  3]\n",
            "  [ 4  5  6  7]\n",
            "  [ 8  9 10 11]]\n",
            "\n",
            " [[12 13 14 15]\n",
            "  [16 17 18 19]\n",
            "  [20 21 22 24]]]\n",
            "\n",
            "Array B : \n",
            " [[[ 25  28  31  34]\n",
            "  [ 38  41  44  47]\n",
            "  [ 51  54  57  60]]\n",
            "\n",
            " [[ 64  67  70  73]\n",
            "  [ 77  80  83  86]\n",
            "  [ 90  93  96 100]]]\n",
            "\n",
            "Array B stacked along rows on array A : \n",
            " [[[  0   1   2   3]\n",
            "  [  4   5   6   7]\n",
            "  [  8   9  10  11]]\n",
            "\n",
            " [[ 12  13  14  15]\n",
            "  [ 16  17  18  19]\n",
            "  [ 20  21  22  24]]\n",
            "\n",
            " [[ 25  28  31  34]\n",
            "  [ 38  41  44  47]\n",
            "  [ 51  54  57  60]]\n",
            "\n",
            " [[ 64  67  70  73]\n",
            "  [ 77  80  83  86]\n",
            "  [ 90  93  96 100]]]\n",
            "\n",
            " Array B stacked along columns on array A : \n",
            " [[[  0   1   2   3]\n",
            "  [  4   5   6   7]\n",
            "  [  8   9  10  11]\n",
            "  [ 25  28  31  34]\n",
            "  [ 38  41  44  47]\n",
            "  [ 51  54  57  60]]\n",
            "\n",
            " [[ 12  13  14  15]\n",
            "  [ 16  17  18  19]\n",
            "  [ 20  21  22  24]\n",
            "  [ 64  67  70  73]\n",
            "  [ 77  80  83  86]\n",
            "  [ 90  93  96 100]]]\n"
          ],
          "name": "stdout"
        }
      ]
    },
    {
      "cell_type": "code",
      "metadata": {
        "colab": {
          "base_uri": "https://localhost:8080/"
        },
        "id": "rRThXdudG490",
        "outputId": "3f287c3f-f5e1-46d7-ed0e-f1bc0aa170c5"
      },
      "source": [
        "# Creating a copy of an array\n",
        "\n",
        "a = np.arange(4).reshape(2,2)\n",
        "print('Array a :\\n ', a)\n",
        "copy_a = np.copy(a)\n",
        "print('\\nCopy of array A : \\n', copy_a)\n",
        "print('\\nDoes array A and its copy have the same memory reference? ', copy_a is a)"
      ],
      "execution_count": 52,
      "outputs": [
        {
          "output_type": "stream",
          "text": [
            "Array a :\n",
            "  [[0 1]\n",
            " [2 3]]\n",
            "\n",
            "Copy of array A : \n",
            " [[0 1]\n",
            " [2 3]]\n",
            "\n",
            "Does array A and its copy have the same memory reference?  False\n"
          ],
          "name": "stdout"
        }
      ]
    },
    {
      "cell_type": "code",
      "metadata": {
        "colab": {
          "base_uri": "https://localhost:8080/"
        },
        "id": "mlQLHSFFHnuB",
        "outputId": "e8994cba-f0a5-497b-8736-84499c00f4e8"
      },
      "source": [
        "# Transpose of an array\n",
        "\n",
        "original_array = np.linspace(1,100,10, dtype = np.int32).reshape(2,5)\n",
        "print('Original array ', original_array.shape, ': \\n', original_array)\n",
        "print('\\nTransposed array ', original_array.T.shape, ': \\n', original_array.T)"
      ],
      "execution_count": 55,
      "outputs": [
        {
          "output_type": "stream",
          "text": [
            "Original array  (2, 5) : \n",
            " [[  1  12  23  34  45]\n",
            " [ 56  67  78  89 100]]\n",
            "\n",
            "Transposed array  (5, 2) : \n",
            " [[  1  56]\n",
            " [ 12  67]\n",
            " [ 23  78]\n",
            " [ 34  89]\n",
            " [ 45 100]]\n"
          ],
          "name": "stdout"
        }
      ]
    }
  ]
}